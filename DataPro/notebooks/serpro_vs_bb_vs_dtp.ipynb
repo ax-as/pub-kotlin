{
 "cells": [
  {
   "cell_type": "code",
   "execution_count": 1,
   "outputs": [],
   "source": [
    "import com.github.ax_as.datapro.data.*\n",
    "import java.nio.file.Path\n",
    "\n",
    "fun toLocalPath(file: String) = Path.of(\"/data/files/output/$file\")\n",
    "val htmlSerproBB = toLocalPath(\"serpro_vs_bb.html\")\n",
    "\n",
    "val configuration = DisplayConfiguration(\n",
    "    rowsLimit = null,\n",
    "    useDarkColorScheme = true,\n",
    ")\n",
    "\n",
    "\n",
    "var bb = DataFrame.concursoBB(DataFiles.bb)\n",
    "var index = 1\n",
    "\n",
    "var listaAc =\n",
    "    DataFrame.concursoSerproFinal(DataFiles.serpro_final_ac_pcd).move(\"pos\")\n",
    "        .to(1).join(bb, JoinType.Left) {\n",
    "            it[\"nome\"] match right[\"nome\"]\n",
    "        }.add(\"indice_bb\") {\n",
    "            it[\"situacao_final\"]?.toString().let {\n",
    "                val v = if (it == \"CLASSIFICADO\") index++ else \"\"\n",
    "                v\n",
    "            }\n",
    "        }.move(\"indice_bb\")\n",
    "        .to(2)\n",
    "        .fillNA {\n",
    "            colsOf<Number?>()\n",
    "        }.withZero().fillNA { all() }.with { \"\" }\n",
    "\n",
    "\n",
    "\n",
    "index = 1\n",
    "var listaPPP =\n",
    "    DataFrame.concursoSerproFinal(DataFiles.serpro_final_ppp).move(\"pos\").to(1)\n",
    "        .join(bb, JoinType.Left) {\n",
    "            it[\"nome\"] match right[\"nome\"]\n",
    "        }.add(\"indice_bb\") {\n",
    "            it[\"situacao_final\"]?.toString().let {\n",
    "                val v = if (it == \"CLASSIFICADO\") index++ else \"\"\n",
    "                v\n",
    "            }\n",
    "        }.move(\"indice_bb\")\n",
    "        .to(2)\n",
    "        \n",
    "        .fillNA {\n",
    "            colsOf<Number?>()\n",
    "        }.withZero().fillNA { all() }.with { \"\" }\n",
    "\n",
    "\n",
    "var allSerpro = listaAc.concat(listaPPP)\n",
    "\n",
    "allSerpro\n",
    "    .toDefaultHtml().writeHTML(toLocalPath(\"serpro_x_bb.html\"))\n",
    "allSerpro\n",
    "    .toDefaultHtml().openInBrowser()\n",
    "\n",
    "\n"
   ],
   "metadata": {
    "collapsed": false,
    "ExecuteTime": {
     "end_time": "2023-12-14T21:15:12.724265570Z",
     "start_time": "2023-12-14T21:15:09.357673029Z"
    }
   }
  },
  {
   "cell_type": "code",
   "execution_count": 2,
   "outputs": [],
   "source": [],
   "metadata": {
    "collapsed": false,
    "ExecuteTime": {
     "end_time": "2023-12-14T21:15:12.728004648Z",
     "start_time": "2023-12-14T21:15:12.714701083Z"
    }
   }
  },
  {
   "cell_type": "code",
   "execution_count": 3,
   "outputs": [],
   "source": [],
   "metadata": {
    "collapsed": false,
    "ExecuteTime": {
     "end_time": "2023-12-14T21:15:12.742363251Z",
     "start_time": "2023-12-14T21:15:12.730977067Z"
    }
   }
  }
 ],
 "metadata": {
  "kernelspec": {
   "display_name": "Kotlin",
   "language": "kotlin",
   "name": "kotlin"
  },
  "language_info": {
   "name": "kotlin",
   "version": "1.9.0",
   "mimetype": "text/x-kotlin",
   "file_extension": ".kt",
   "pygments_lexer": "kotlin",
   "codemirror_mode": "text/x-kotlin",
   "nbconvert_exporter": ""
  },
  "ktnbPluginMetadata": {
   "projectDependencies": [
    "DataPro.main",
    "DataPro.test"
   ]
  }
 },
 "nbformat": 4,
 "nbformat_minor": 0
}
