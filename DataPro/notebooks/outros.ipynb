{
 "cells": [
  {
   "cell_type": "code",
   "execution_count": 1,
   "outputs": [],
   "source": [
    "import com.github.ax_as.datapro.data.*\n",
    "import java.nio.file.Path\n",
    "import org.jetbrains.kotlinx.dataframe.DataFrame\n",
    "import org.jetbrains.kotlinx.dataframe.api.JoinType\n",
    "import org.jetbrains.kotlinx.dataframe.api.add\n",
    "\n",
    "fun toLocalPath(file: String) = Path.of(\"/data/files/output/$file\")\n",
    "val htmlSortByFirstName = toLocalPath(\"ranking_nomes.html\")\n",
    "\n",
    "val configuration = DisplayConfiguration(\n",
    "    rowsLimit = null,\n",
    "    useDarkColorScheme = true,\n",
    ")\n",
    "\n",
    "var listaAc =\n",
    "    DataFrame.concursoSerpro(DataFiles.serpro_ac).sortByClassificacaoFinal()\n",
    "        .add(\"lista\") { \"AC\" }.move(\"lista\").to(1)\n",
    "\n",
    "var listaPPP =\n",
    "    DataFrame.concursoSerpro(DataFiles.serpro_ppp).sortByClassificacaoFinal()\n",
    "        .add(\"lista\") { \"PPP\" }.move(\"lista\").to(1)\n",
    "\n",
    "var listaPcd =\n",
    "    DataFrame.concursoSerpro(DataFiles.serpro_pcd).sortByClassificacaoFinal()\n",
    "        .add(\"lista\") { \"PCD\" }.move(\"lista\").to(1)\n",
    "\n",
    "\n",
    "var allSerpro =\n",
    "    listaAc.concat(listaPPP, listaPcd).distinctBy(\"inscricao\").sortByFirstNameCount()\n",
    "\n",
    "\n",
    "allSerpro\n",
    "    .toDefaultHtml()\n",
    "    .writeHTML(htmlSortByFirstName)\n",
    "\n",
    "\n",
    "\n"
   ],
   "metadata": {
    "collapsed": false,
    "ExecuteTime": {
     "end_time": "2023-09-24T05:10:18.653643222Z",
     "start_time": "2023-09-24T05:10:17.012215317Z"
    }
   }
  },
  {
   "cell_type": "code",
   "execution_count": 2,
   "outputs": [],
   "source": [],
   "metadata": {
    "collapsed": false,
    "ExecuteTime": {
     "end_time": "2023-09-24T05:10:18.657585100Z",
     "start_time": "2023-09-24T05:10:18.654300334Z"
    }
   }
  },
  {
   "cell_type": "code",
   "execution_count": 3,
   "outputs": [],
   "source": [],
   "metadata": {
    "collapsed": false,
    "ExecuteTime": {
     "end_time": "2023-09-24T05:10:18.661439820Z",
     "start_time": "2023-09-24T05:10:18.658497472Z"
    }
   }
  }
 ],
 "metadata": {
  "kernelspec": {
   "display_name": "Kotlin",
   "language": "kotlin",
   "name": "kotlin"
  },
  "language_info": {
   "name": "kotlin",
   "version": "1.9.0",
   "mimetype": "text/x-kotlin",
   "file_extension": ".kt",
   "pygments_lexer": "kotlin",
   "codemirror_mode": "text/x-kotlin",
   "nbconvert_exporter": ""
  },
  "ktnbPluginMetadata": {
   "projectDependencies": [
    "DataPro.main",
    "DataPro.test"
   ]
  }
 },
 "nbformat": 4,
 "nbformat_minor": 0
}
