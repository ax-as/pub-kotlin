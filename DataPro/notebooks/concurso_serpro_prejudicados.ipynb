{
 "cells": [
  {
   "cell_type": "code",
   "execution_count": null,
   "outputs": [],
   "source": [
    "import com.github.ax_as.datapro.data.*\n",
    "import java.nio.file.Path\n",
    "import org.jetbrains.kotlinx.dataframe.DataFrame\n",
    "import org.jetbrains.kotlinx.dataframe.api.JoinType\n",
    "\n",
    "fun toLocalPath(file: String) = Path.of(\"/data/files/output/$file\")\n",
    "val htmlAc = toLocalPath(\"ranking_perderam_mais_posicoes_ac.html\")\n",
    "val htmlAcInju = toLocalPath(\"ranking_perderam_mais_posicoes_ac_inj.html\")\n",
    "val htmlAcSemZero =\n",
    "    toLocalPath(\"ranking_perderam_mais_posicoes_ac_naozerados.html\")\n",
    "\n",
    "val configuration = DisplayConfiguration(\n",
    "    rowsLimit = null,\n",
    "    useDarkColorScheme = true,\n",
    ")\n",
    "\n",
    "var inj = DataFrame.fromLocal(DataFiles.injusticados)\n",
    "var listaAc = DataFrame.concursoSerpro(DataFiles.serpro_ac).sortByDesc(\"nota_final\")\n",
    "var listaPPP = DataFrame.concursoSerpro(DataFiles.serpro_ppp).sortByDesc(\"nota_final\")\n",
    "var listaPcd = DataFrame.concursoSerpro(DataFiles.serpro_pcd).sortByDesc(\"\")\n",
    "var bb = DataFrame.concursoBB(DataFiles.bb)\n",
    "\n",
    "var allSerpro = listaAc.concat(listaPPP, listaPcd)\n",
    "    .sortByDesc { it[\"nota_final\"] }.remove(\"pos\").add(\"pos\") { (index() + 1) }\n",
    "    .moveToLeft(\"pos\")\n",
    "\n",
    "allSerpro.join(bb, JoinType.Left) {\n",
    "    it[\"nome\"] match right[\"nome\"]\n",
    "}\n",
    "    .toDefaultHtml().openInBrowser()\n",
    "\n",
    "listaAc.sortByPosDiff().toDefaultHtml().writeHTML(htmlAc)\n",
    "listaAc.filter {\n",
    "    \"notapratica\"<Double>() > 0\n",
    "}.sortByPosDiff().toDefaultHtml().writeHTML(htmlAcSemZero)\n",
    "\n",
    "listaAc.sortByPosDiff().join(inj, JoinType.Inner) {\n",
    "    it[\"inscricao\"] match right[\"id\"]\n",
    "}.toDefaultHtml().writeHTML(htmlAcInju)\n",
    "\n",
    "\n"
   ],
   "metadata": {
    "collapsed": false
   }
  },
  {
   "cell_type": "code",
   "execution_count": null,
   "outputs": [],
   "source": [],
   "metadata": {
    "collapsed": false
   }
  },
  {
   "cell_type": "code",
   "execution_count": null,
   "outputs": [],
   "source": [],
   "metadata": {
    "collapsed": false
   }
  },
  {
   "cell_type": "code",
   "execution_count": null,
   "outputs": [],
   "source": [],
   "metadata": {
    "collapsed": false
   }
  }
 ],
 "metadata": {
  "kernelspec": {
   "display_name": "Kotlin",
   "language": "kotlin",
   "name": "kotlin"
  },
  "language_info": {
   "name": "kotlin",
   "version": "1.9.0",
   "mimetype": "text/x-kotlin",
   "file_extension": ".kt",
   "pygments_lexer": "kotlin",
   "codemirror_mode": "text/x-kotlin",
   "nbconvert_exporter": ""
  },
  "ktnbPluginMetadata": {
   "projectDependencies": [
    "DataPro.main",
    "DataPro.test"
   ]
  }
 },
 "nbformat": 4,
 "nbformat_minor": 0
}
