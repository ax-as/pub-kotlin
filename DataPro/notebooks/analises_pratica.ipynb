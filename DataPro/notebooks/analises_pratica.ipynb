{
 "cells": [
  {
   "cell_type": "code",
   "execution_count": 1,
   "outputs": [],
   "source": [
    "import com.github.ax_as.datapro.data.*\n",
    "import org.jetbrains.kotlinx.dataframe.DataFrame\n",
    "import java.nio.file.Path\n",
    "\n",
    "fun toLocalPath(file: String) = Path.of(\"/data/files/output/$file\")\n",
    "val htmlSerproBB = toLocalPath(\"serpro_vs_bb.html\")\n",
    "\n",
    "val configuration = DisplayConfiguration(\n",
    "    rowsLimit = null,\n",
    "    useDarkColorScheme = true,\n",
    ")\n",
    "\n",
    "var pratica_ac =\n",
    "    DataFrame.praticaSerproPorItemProva(DataFiles.serpro_final_pratica, \"AC\")\n",
    "        \n",
    "\n",
    "var pratica_ppp =\n",
    "    DataFrame.praticaSerpro(DataFiles.serpro_final_pratica_ppp, \"PPP\")\n",
    "        .add(\"pos_pratica\") { index()+1 }\n",
    "\n",
    "var pratica_pcd =\n",
    "    DataFrame.praticaSerpro(DataFiles.serpro_final_pratica_pcd, \"PCD\")\n",
    "        .add(\"pos_pratica\") { index()+1 }\n",
    "\n",
    "\n",
    "pratica_ac.toDefaultHtml().openInBrowser()\n",
    "\n"
   ],
   "metadata": {
    "collapsed": false,
    "ExecuteTime": {
     "end_time": "2023-10-05T22:20:00.441167103Z",
     "start_time": "2023-10-05T22:19:58.866405517Z"
    }
   }
  },
  {
   "cell_type": "code",
   "execution_count": 2,
   "outputs": [],
   "source": [],
   "metadata": {
    "collapsed": false,
    "ExecuteTime": {
     "end_time": "2023-10-05T22:20:00.442823462Z",
     "start_time": "2023-10-05T22:20:00.440199919Z"
    }
   }
  },
  {
   "cell_type": "code",
   "execution_count": 3,
   "outputs": [],
   "source": [],
   "metadata": {
    "collapsed": false,
    "ExecuteTime": {
     "end_time": "2023-10-05T22:20:00.445793087Z",
     "start_time": "2023-10-05T22:20:00.443190156Z"
    }
   }
  }
 ],
 "metadata": {
  "kernelspec": {
   "display_name": "Kotlin",
   "language": "kotlin",
   "name": "kotlin"
  },
  "language_info": {
   "name": "kotlin",
   "version": "1.9.0",
   "mimetype": "text/x-kotlin",
   "file_extension": ".kt",
   "pygments_lexer": "kotlin",
   "codemirror_mode": "text/x-kotlin",
   "nbconvert_exporter": ""
  },
  "ktnbPluginMetadata": {
   "projectDependencies": [
    "DataPro.main",
    "DataPro.test"
   ]
  }
 },
 "nbformat": 4,
 "nbformat_minor": 0
}
