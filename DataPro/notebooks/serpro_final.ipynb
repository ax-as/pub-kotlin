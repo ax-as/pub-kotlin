{
 "cells": [
  {
   "cell_type": "code",
   "execution_count": 1,
   "outputs": [],
   "source": [
    "import com.github.ax_as.datapro.data.*\n",
    "import java.nio.file.Path\n",
    "import org.jetbrains.kotlinx.dataframe.DataFrame\n",
    "import org.jetbrains.kotlinx.dataframe.api.JoinType\n",
    "import org.jetbrains.kotlinx.dataframe.api.add\n",
    "\n",
    "fun toLocalPath(file: String) = Path.of(\"/data/files/output/$file\")\n",
    "val htmlSerproBB = toLocalPath(\"serpro_vs_bb.html\")\n",
    "\n",
    "val configuration = DisplayConfiguration(\n",
    "    rowsLimit = null,\n",
    "    useDarkColorScheme = true,\n",
    ")\n",
    "\n",
    "\n",
    "var bb = DataFrame.concursoBB(DataFiles.bb)\n",
    "var c = 1\n",
    "\n",
    "var listaAc =\n",
    "    DataFrame.concursoSerpro(DataFiles.serpro_final_pratica).sortByClassificacaoFinal()\n",
    "        .add(\"lista\") { \"AC\" }.move(\"lista\").to(1).join(bb, JoinType.Left) {\n",
    "            it[\"nome\"] match right[\"nome\"]\n",
    "        }.add(\"pos_ex\") {\n",
    "            it[\"situacao_final\"]?.toString().let {\n",
    "                val v = if (it == \"CLASSIFICADO\") \"\" else \"${c++}\"\n",
    "                v\n",
    "            }\n",
    "        }.move(\"pos_ex\").to(1)\n",
    "        .fillNA {\n",
    "            colsOf<Number?>()\n",
    "        }.withZero().fillNA { all() }.with { \"\" }\n",
    "\n",
    "c = 1\n",
    "var listaPPP =\n",
    "    DataFrame.concursoSerpro(DataFiles.serpro_ppp).sortByClassificacaoFinal()\n",
    "        .add(\"lista\") { \"PPP\" }.move(\"lista\").to(1).join(bb, JoinType.Left) {\n",
    "            it[\"nome\"] match right[\"nome\"]\n",
    "        }.add(\"pos_ex\") {\n",
    "            it[\"situacao_final\"]?.toString().let {\n",
    "                val v = if (it == \"CLASSIFICADO\") \"\" else \"${c++}\"\n",
    "                v\n",
    "            }\n",
    "        }.move(\"pos_ex\").to(1)\n",
    "        .fillNA {\n",
    "            colsOf<Number?>()\n",
    "        }.withZero().fillNA { all() }.with { \"\" }\n",
    "\n",
    "c = 1\n",
    "var listaPcd =\n",
    "    DataFrame.concursoSerpro(DataFiles.serpro_pcd).sortByClassificacaoFinal()\n",
    "        .add(\"lista\") { \"PCD\" }.move(\"lista\").to(1).join(bb, JoinType.Left) {\n",
    "            it[\"nome\"] match right[\"nome\"]\n",
    "        }.add(\"pos_ex\") {\n",
    "            it[\"situacao_final\"]?.toString().let {\n",
    "                val v = if (it == \"CLASSIFICADO\") \"\" else \"${c++}\"\n",
    "                v\n",
    "            }\n",
    "        }.move(\"pos_ex\").to(1)\n",
    "        .fillNA {\n",
    "            colsOf<Number?>()\n",
    "        }.withZero().fillNA { all() }.with { \"\" }\n",
    "\n",
    "\n",
    "var allSerpro = listaAc.concat(listaPPP, listaPcd)\n",
    "\n",
    "allSerpro\n",
    "    .toDefaultHtml()\n",
    "    .writeHTML(htmlSerproBB)\n",
    "\n",
    "\n",
    "\n"
   ],
   "metadata": {
    "collapsed": false,
    "ExecuteTime": {
     "start_time": "2023-09-24T04:54:44.952268769Z"
    }
   }
  },
  {
   "cell_type": "code",
   "execution_count": 2,
   "outputs": [],
   "source": [],
   "metadata": {
    "collapsed": false,
    "ExecuteTime": {
     "start_time": "2023-09-24T04:54:47.406356324Z"
    }
   }
  },
  {
   "cell_type": "code",
   "execution_count": 3,
   "outputs": [],
   "source": [],
   "metadata": {
    "collapsed": false,
    "ExecuteTime": {
     "start_time": "2023-09-24T04:54:47.410744661Z"
    }
   }
  }
 ],
 "metadata": {
  "kernelspec": {
   "display_name": "Kotlin",
   "language": "kotlin",
   "name": "kotlin"
  },
  "language_info": {
   "name": "kotlin",
   "version": "1.9.0",
   "mimetype": "text/x-kotlin",
   "file_extension": ".kt",
   "pygments_lexer": "kotlin",
   "codemirror_mode": "text/x-kotlin",
   "nbconvert_exporter": ""
  },
  "ktnbPluginMetadata": {
   "projectDependencies": [
    "DataPro.main",
    "DataPro.test"
   ]
  }
 },
 "nbformat": 4,
 "nbformat_minor": 0
}
