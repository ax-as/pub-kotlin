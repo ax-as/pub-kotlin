{
 "cells": [
  {
   "cell_type": "code",
   "execution_count": 7,
   "outputs": [
    {
     "name": "stderr",
     "output_type": "stream",
     "text": [
      "Column [nota_c_especificos] not found\n",
      "java.lang.IllegalStateException: Column [nota_c_especificos] not found\n",
      "\tat org.jetbrains.kotlinx.dataframe.impl.DataFrameReceiver.check(DataFrameReceiver.kt:34)\n",
      "\tat org.jetbrains.kotlinx.dataframe.impl.DataFrameReceiver.getColumnOrNull(DataFrameReceiver.kt:42)\n",
      "\tat org.jetbrains.kotlinx.dataframe.api.DataFrameGetKt.getColumn(DataFrameGet.kt:64)\n",
      "\tat org.jetbrains.kotlinx.dataframe.ColumnsContainer$DefaultImpls.get(ColumnsContainer.kt:48)\n",
      "\tat org.jetbrains.kotlinx.dataframe.DataFrame$DefaultImpls.get(DataFrame.kt:29)\n",
      "\tat org.jetbrains.kotlinx.dataframe.impl.DataFrameImpl.get(DataFrameImpl.kt:32)\n",
      "\tat Line_6_jupyter$df$1.invoke(Line_6.jupyter.kts:45)\n",
      "\tat Line_6_jupyter$df$1.invoke(Line_6.jupyter.kts:33)\n",
      "\tat org.jetbrains.kotlinx.dataframe.impl.columns.ConstructorsKt$toColumnSet$1.invoke(constructors.kt:173)\n",
      "\tat org.jetbrains.kotlinx.dataframe.impl.columns.ConstructorsKt$toColumnSet$1.invoke(constructors.kt:171)\n",
      "\tat org.jetbrains.kotlinx.dataframe.impl.columns.ConstructorsKt$createColumnSet$1.resolve(constructors.kt:150)\n",
      "\tat org.jetbrains.kotlinx.dataframe.impl.columns.UtilsKt.resolve(Utils.kt:247)\n",
      "\tat org.jetbrains.kotlinx.dataframe.impl.UtilsKt.getColumnsWithPaths(Utils.kt:172)\n",
      "\tat org.jetbrains.kotlinx.dataframe.impl.UtilsKt.getColumnsImpl(Utils.kt:167)\n",
      "\tat org.jetbrains.kotlinx.dataframe.DataFrame$DefaultImpls.get(DataFrame.kt:59)\n",
      "\tat org.jetbrains.kotlinx.dataframe.impl.DataFrameImpl.get(DataFrameImpl.kt:32)\n",
      "\tat org.jetbrains.kotlinx.dataframe.api.SelectKt.select(select.kt:13)\n",
      "\tat Line_6_jupyter.<init>(Line_6.jupyter.kts:33)\n",
      "\tat java.base/jdk.internal.reflect.NativeConstructorAccessorImpl.newInstance0(Native Method)\n",
      "\tat java.base/jdk.internal.reflect.NativeConstructorAccessorImpl.newInstance(NativeConstructorAccessorImpl.java:77)\n",
      "\tat java.base/jdk.internal.reflect.DelegatingConstructorAccessorImpl.newInstance(DelegatingConstructorAccessorImpl.java:45)\n",
      "\tat java.base/java.lang.reflect.Constructor.newInstanceWithCaller(Constructor.java:499)\n",
      "\tat java.base/java.lang.reflect.Constructor.newInstance(Constructor.java:480)\n",
      "\tat kotlin.script.experimental.jvm.BasicJvmScriptEvaluator.evalWithConfigAndOtherScriptsResults(BasicJvmScriptEvaluator.kt:105)\n",
      "\tat kotlin.script.experimental.jvm.BasicJvmScriptEvaluator.invoke$suspendImpl(BasicJvmScriptEvaluator.kt:47)\n",
      "\tat kotlin.script.experimental.jvm.BasicJvmScriptEvaluator.invoke(BasicJvmScriptEvaluator.kt)\n",
      "\tat kotlin.script.experimental.jvm.BasicJvmReplEvaluator.eval(BasicJvmReplEvaluator.kt:49)\n",
      "\tat org.jetbrains.kotlinx.jupyter.repl.impl.InternalEvaluatorImpl$eval$resultWithDiagnostics$1.invokeSuspend(InternalEvaluatorImpl.kt:107)\n",
      "\tat kotlin.coroutines.jvm.internal.BaseContinuationImpl.resumeWith(ContinuationImpl.kt:33)\n",
      "\tat kotlinx.coroutines.DispatchedTask.run(DispatchedTask.kt:106)\n",
      "\tat kotlinx.coroutines.EventLoopImplBase.processNextEvent(EventLoop.common.kt:284)\n",
      "\tat kotlinx.coroutines.BlockingCoroutine.joinBlocking(Builders.kt:85)\n",
      "\tat kotlinx.coroutines.BuildersKt__BuildersKt.runBlocking(Builders.kt:59)\n",
      "\tat kotlinx.coroutines.BuildersKt.runBlocking(Unknown Source)\n",
      "\tat kotlinx.coroutines.BuildersKt__BuildersKt.runBlocking$default(Builders.kt:38)\n",
      "\tat kotlinx.coroutines.BuildersKt.runBlocking$default(Unknown Source)\n",
      "\tat org.jetbrains.kotlinx.jupyter.repl.impl.InternalEvaluatorImpl.eval(InternalEvaluatorImpl.kt:107)\n",
      "\tat org.jetbrains.kotlinx.jupyter.repl.impl.CellExecutorImpl$execute$1$result$1.invoke(CellExecutorImpl.kt:78)\n",
      "\tat org.jetbrains.kotlinx.jupyter.repl.impl.CellExecutorImpl$execute$1$result$1.invoke(CellExecutorImpl.kt:76)\n",
      "\tat org.jetbrains.kotlinx.jupyter.ReplForJupyterImpl.withHost(repl.kt:681)\n",
      "\tat org.jetbrains.kotlinx.jupyter.repl.impl.CellExecutorImpl.execute(CellExecutorImpl.kt:76)\n",
      "\tat org.jetbrains.kotlinx.jupyter.repl.CellExecutor$DefaultImpls.execute$default(CellExecutor.kt:16)\n",
      "\tat org.jetbrains.kotlinx.jupyter.ReplForJupyterImpl$evalEx$1.invoke(repl.kt:496)\n",
      "\tat org.jetbrains.kotlinx.jupyter.ReplForJupyterImpl$evalEx$1.invoke(repl.kt:474)\n",
      "\tat org.jetbrains.kotlinx.jupyter.ReplForJupyterImpl.withEvalContext(repl.kt:437)\n",
      "\tat org.jetbrains.kotlinx.jupyter.ReplForJupyterImpl.evalEx(repl.kt:474)\n",
      "\tat org.jetbrains.kotlinx.jupyter.messaging.ProtocolKt$shellMessagesHandler$2$res$1.invoke(protocol.kt:320)\n",
      "\tat org.jetbrains.kotlinx.jupyter.messaging.ProtocolKt$shellMessagesHandler$2$res$1.invoke(protocol.kt:314)\n",
      "\tat org.jetbrains.kotlinx.jupyter.JupyterExecutorImpl$runExecution$execThread$1.invoke(execution.kt:38)\n",
      "\tat org.jetbrains.kotlinx.jupyter.JupyterExecutorImpl$runExecution$execThread$1.invoke(execution.kt:33)\n",
      "\tat kotlin.concurrent.ThreadsKt$thread$thread$1.run(Thread.kt:30)\n"
     ]
    }
   ],
   "source": [
    "import com.github.ax_as.datapro.data.DataFiles\n",
    "import com.github.ax_as.datapro.data.fromLocal\n",
    "import com.github.ax_as.datapro.data.normalizeData\n",
    "import org.jetbrains.kotlinx.dataframe.DataFrame\n",
    "import org.jetbrains.kotlinx.dataframe.api.JoinType\n",
    "\n",
    "val configuration = DisplayConfiguration(\n",
    "    rowsLimit = 6000,\n",
    "    \n",
    ")\n",
    "\n",
    "var concurso = DataFrame.fromLocal(\n",
    "    listOf(\n",
    "        DataFiles.serpro_ac,\n",
    "        DataFiles.serpro_ppp,\n",
    "        DataFiles.serpro_pcd\n",
    "    ), ','\n",
    ").normalizeData(\"nome\".toColumnAccessor())\n",
    "\n",
    "\n",
    "\n",
    "var funcionarios_serpro =\n",
    "    DataFrame.fromLocal(DataFiles.funcionarios_serpro, '|')\n",
    "        .normalizeData(\"nome\".toColumnAccessor())\n",
    "\n",
    "var injusticados = DataFrame.fromLocal(DataFiles.injusticados, ',')\n",
    "\n",
    "var bb = DataFrame.fromLocal(DataFiles.injusticados, ',')\n",
    "\n",
    "//val b = DataFrame.loadFromDefaultDir(\"concurso_serpro_classificacao_pcd.csv\", ',')\n",
    "//val c = DataFrame.loadFromDefDaaultDir(\"concurso_serpro_classificacao_ppp.csv\", ',')\n",
    "\n",
    "\n",
    "var df = concurso.join(funcionarios_serpro, \"nome\").select {\n",
    "    val sel = listOf(\n",
    "        \"pos\",\n",
    "        \"inscricao\",\n",
    "        \"nome\",\n",
    "        \"nota_c_especificos\",\n",
    "        \"nota_prova_pratica\",\n",
    "        \"nota_calculo_final_atica\"\n",
    "    )\n",
    "\n",
    "    val selC = mutableListOf<DataColumn<*>>()\n",
    "    sel.forEach { s ->\n",
    "        selC.add(it[s])\n",
    "    }\n",
    "\n",
    "    selC.toColumnSet()\n",
    "}.sortByDesc(\"nota_c_especificos\")\n",
    "\n",
    "df = df.join(injusticados, JoinType.Inner) {\n",
    "    it[\"inscricao\"] match right[\"id\"]\n",
    "}\n",
    "\n",
    "df.head(Int.MAX_VALUE).toStandaloneHTML(\n",
    "    configuration\n",
    ").openInBrowser()"
   ],
   "metadata": {
    "collapsed": false,
    "ExecuteTime": {
     "end_time": "2023-09-23T18:55:04.496352785Z",
     "start_time": "2023-09-23T18:55:03.763560159Z"
    }
   }
  },
  {
   "cell_type": "code",
   "execution_count": 8,
   "outputs": [],
   "source": [],
   "metadata": {
    "collapsed": false,
    "ExecuteTime": {
     "end_time": "2023-09-23T18:55:04.503484836Z",
     "start_time": "2023-09-23T18:55:04.497668756Z"
    }
   }
  },
  {
   "cell_type": "code",
   "execution_count": 9,
   "outputs": [],
   "source": [],
   "metadata": {
    "collapsed": false,
    "ExecuteTime": {
     "end_time": "2023-09-23T18:55:04.509861122Z",
     "start_time": "2023-09-23T18:55:04.503215823Z"
    }
   }
  }
 ],
 "metadata": {
  "kernelspec": {
   "display_name": "Kotlin",
   "language": "kotlin",
   "name": "kotlin"
  },
  "language_info": {
   "name": "kotlin",
   "version": "1.9.0",
   "mimetype": "text/x-kotlin",
   "file_extension": ".kt",
   "pygments_lexer": "kotlin",
   "codemirror_mode": "text/x-kotlin",
   "nbconvert_exporter": ""
  },
  "ktnbPluginMetadata": {
   "projectDependencies": [
    "DataPro.main",
    "DataPro.test"
   ]
  }
 },
 "nbformat": 4,
 "nbformat_minor": 0
}
